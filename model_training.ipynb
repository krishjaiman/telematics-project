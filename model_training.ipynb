{
  "nbformat": 4,
  "nbformat_minor": 0,
  "metadata": {
    "colab": {
      "provenance": []
    },
    "kernelspec": {
      "name": "python3",
      "display_name": "Python 3"
    },
    "language_info": {
      "name": "python"
    }
  },
  "cells": [
    {
      "cell_type": "code",
      "execution_count": null,
      "metadata": {
        "id": "5HzNCn3slsPP"
      },
      "outputs": [],
      "source": [
        "import pandas as pd\n",
        "import numpy as np\n",
        "import matplotlib.pyplot as plt\n",
        "import seaborn as sns"
      ]
    },
    {
      "cell_type": "code",
      "source": [
        "data = pd.read_csv(\"/content/drive/MyDrive/Insurity_Assignement/driving_data_large.csv\")"
      ],
      "metadata": {
        "id": "iBvbaHqTMydy"
      },
      "execution_count": null,
      "outputs": []
    },
    {
      "cell_type": "code",
      "source": [
        "data.head()"
      ],
      "metadata": {
        "colab": {
          "base_uri": "https://localhost:8080/",
          "height": 293
        },
        "id": "CRlACHKJNIpZ",
        "outputId": "a6e63693-36f8-4704-c9de-1bd3c2f75dfd"
      },
      "execution_count": null,
      "outputs": [
        {
          "output_type": "execute_result",
          "data": {
            "text/plain": [
              "        driver_id                                    trip_id  \\\n",
              "0  driver_safe_01  trip_f591bff5-33ce-497d-8bbb-d1fc8d31be77   \n",
              "1  driver_safe_01  trip_f591bff5-33ce-497d-8bbb-d1fc8d31be77   \n",
              "2  driver_safe_01  trip_f591bff5-33ce-497d-8bbb-d1fc8d31be77   \n",
              "3  driver_safe_01  trip_f591bff5-33ce-497d-8bbb-d1fc8d31be77   \n",
              "4  driver_safe_01  trip_f591bff5-33ce-497d-8bbb-d1fc8d31be77   \n",
              "\n",
              "                    timestamp   latitude  longitude  speed_kmh  \\\n",
              "0  2025-05-30 16:38:43.277572  40.712753 -74.006106      57.12   \n",
              "1  2025-05-30 16:38:44.277572  40.712862 -74.006205      45.84   \n",
              "2  2025-05-30 16:38:45.277572  40.712741 -74.006175      50.14   \n",
              "3  2025-05-30 16:38:46.277572  40.712762 -74.006270      49.73   \n",
              "4  2025-05-30 16:38:47.277572  40.712714 -74.006270      42.35   \n",
              "\n",
              "   accelerometer_x  accelerometer_y  accelerometer_z  \n",
              "0          -0.6880          -0.3066              9.8  \n",
              "1          -0.3554          -0.2550              9.8  \n",
              "2          -0.7210          -0.6155              9.8  \n",
              "3           0.2490          -0.1084              9.8  \n",
              "4           0.4324           0.5786              9.8  "
            ],
            "text/html": [
              "\n",
              "  <div id=\"df-78a6c24a-d737-4d9c-bf72-8a0e14fa174d\" class=\"colab-df-container\">\n",
              "    <div>\n",
              "<style scoped>\n",
              "    .dataframe tbody tr th:only-of-type {\n",
              "        vertical-align: middle;\n",
              "    }\n",
              "\n",
              "    .dataframe tbody tr th {\n",
              "        vertical-align: top;\n",
              "    }\n",
              "\n",
              "    .dataframe thead th {\n",
              "        text-align: right;\n",
              "    }\n",
              "</style>\n",
              "<table border=\"1\" class=\"dataframe\">\n",
              "  <thead>\n",
              "    <tr style=\"text-align: right;\">\n",
              "      <th></th>\n",
              "      <th>driver_id</th>\n",
              "      <th>trip_id</th>\n",
              "      <th>timestamp</th>\n",
              "      <th>latitude</th>\n",
              "      <th>longitude</th>\n",
              "      <th>speed_kmh</th>\n",
              "      <th>accelerometer_x</th>\n",
              "      <th>accelerometer_y</th>\n",
              "      <th>accelerometer_z</th>\n",
              "    </tr>\n",
              "  </thead>\n",
              "  <tbody>\n",
              "    <tr>\n",
              "      <th>0</th>\n",
              "      <td>driver_safe_01</td>\n",
              "      <td>trip_f591bff5-33ce-497d-8bbb-d1fc8d31be77</td>\n",
              "      <td>2025-05-30 16:38:43.277572</td>\n",
              "      <td>40.712753</td>\n",
              "      <td>-74.006106</td>\n",
              "      <td>57.12</td>\n",
              "      <td>-0.6880</td>\n",
              "      <td>-0.3066</td>\n",
              "      <td>9.8</td>\n",
              "    </tr>\n",
              "    <tr>\n",
              "      <th>1</th>\n",
              "      <td>driver_safe_01</td>\n",
              "      <td>trip_f591bff5-33ce-497d-8bbb-d1fc8d31be77</td>\n",
              "      <td>2025-05-30 16:38:44.277572</td>\n",
              "      <td>40.712862</td>\n",
              "      <td>-74.006205</td>\n",
              "      <td>45.84</td>\n",
              "      <td>-0.3554</td>\n",
              "      <td>-0.2550</td>\n",
              "      <td>9.8</td>\n",
              "    </tr>\n",
              "    <tr>\n",
              "      <th>2</th>\n",
              "      <td>driver_safe_01</td>\n",
              "      <td>trip_f591bff5-33ce-497d-8bbb-d1fc8d31be77</td>\n",
              "      <td>2025-05-30 16:38:45.277572</td>\n",
              "      <td>40.712741</td>\n",
              "      <td>-74.006175</td>\n",
              "      <td>50.14</td>\n",
              "      <td>-0.7210</td>\n",
              "      <td>-0.6155</td>\n",
              "      <td>9.8</td>\n",
              "    </tr>\n",
              "    <tr>\n",
              "      <th>3</th>\n",
              "      <td>driver_safe_01</td>\n",
              "      <td>trip_f591bff5-33ce-497d-8bbb-d1fc8d31be77</td>\n",
              "      <td>2025-05-30 16:38:46.277572</td>\n",
              "      <td>40.712762</td>\n",
              "      <td>-74.006270</td>\n",
              "      <td>49.73</td>\n",
              "      <td>0.2490</td>\n",
              "      <td>-0.1084</td>\n",
              "      <td>9.8</td>\n",
              "    </tr>\n",
              "    <tr>\n",
              "      <th>4</th>\n",
              "      <td>driver_safe_01</td>\n",
              "      <td>trip_f591bff5-33ce-497d-8bbb-d1fc8d31be77</td>\n",
              "      <td>2025-05-30 16:38:47.277572</td>\n",
              "      <td>40.712714</td>\n",
              "      <td>-74.006270</td>\n",
              "      <td>42.35</td>\n",
              "      <td>0.4324</td>\n",
              "      <td>0.5786</td>\n",
              "      <td>9.8</td>\n",
              "    </tr>\n",
              "  </tbody>\n",
              "</table>\n",
              "</div>\n",
              "    <div class=\"colab-df-buttons\">\n",
              "\n",
              "  <div class=\"colab-df-container\">\n",
              "    <button class=\"colab-df-convert\" onclick=\"convertToInteractive('df-78a6c24a-d737-4d9c-bf72-8a0e14fa174d')\"\n",
              "            title=\"Convert this dataframe to an interactive table.\"\n",
              "            style=\"display:none;\">\n",
              "\n",
              "  <svg xmlns=\"http://www.w3.org/2000/svg\" height=\"24px\" viewBox=\"0 -960 960 960\">\n",
              "    <path d=\"M120-120v-720h720v720H120Zm60-500h600v-160H180v160Zm220 220h160v-160H400v160Zm0 220h160v-160H400v160ZM180-400h160v-160H180v160Zm440 0h160v-160H620v160ZM180-180h160v-160H180v160Zm440 0h160v-160H620v160Z\"/>\n",
              "  </svg>\n",
              "    </button>\n",
              "\n",
              "  <style>\n",
              "    .colab-df-container {\n",
              "      display:flex;\n",
              "      gap: 12px;\n",
              "    }\n",
              "\n",
              "    .colab-df-convert {\n",
              "      background-color: #E8F0FE;\n",
              "      border: none;\n",
              "      border-radius: 50%;\n",
              "      cursor: pointer;\n",
              "      display: none;\n",
              "      fill: #1967D2;\n",
              "      height: 32px;\n",
              "      padding: 0 0 0 0;\n",
              "      width: 32px;\n",
              "    }\n",
              "\n",
              "    .colab-df-convert:hover {\n",
              "      background-color: #E2EBFA;\n",
              "      box-shadow: 0px 1px 2px rgba(60, 64, 67, 0.3), 0px 1px 3px 1px rgba(60, 64, 67, 0.15);\n",
              "      fill: #174EA6;\n",
              "    }\n",
              "\n",
              "    .colab-df-buttons div {\n",
              "      margin-bottom: 4px;\n",
              "    }\n",
              "\n",
              "    [theme=dark] .colab-df-convert {\n",
              "      background-color: #3B4455;\n",
              "      fill: #D2E3FC;\n",
              "    }\n",
              "\n",
              "    [theme=dark] .colab-df-convert:hover {\n",
              "      background-color: #434B5C;\n",
              "      box-shadow: 0px 1px 3px 1px rgba(0, 0, 0, 0.15);\n",
              "      filter: drop-shadow(0px 1px 2px rgba(0, 0, 0, 0.3));\n",
              "      fill: #FFFFFF;\n",
              "    }\n",
              "  </style>\n",
              "\n",
              "    <script>\n",
              "      const buttonEl =\n",
              "        document.querySelector('#df-78a6c24a-d737-4d9c-bf72-8a0e14fa174d button.colab-df-convert');\n",
              "      buttonEl.style.display =\n",
              "        google.colab.kernel.accessAllowed ? 'block' : 'none';\n",
              "\n",
              "      async function convertToInteractive(key) {\n",
              "        const element = document.querySelector('#df-78a6c24a-d737-4d9c-bf72-8a0e14fa174d');\n",
              "        const dataTable =\n",
              "          await google.colab.kernel.invokeFunction('convertToInteractive',\n",
              "                                                    [key], {});\n",
              "        if (!dataTable) return;\n",
              "\n",
              "        const docLinkHtml = 'Like what you see? Visit the ' +\n",
              "          '<a target=\"_blank\" href=https://colab.research.google.com/notebooks/data_table.ipynb>data table notebook</a>'\n",
              "          + ' to learn more about interactive tables.';\n",
              "        element.innerHTML = '';\n",
              "        dataTable['output_type'] = 'display_data';\n",
              "        await google.colab.output.renderOutput(dataTable, element);\n",
              "        const docLink = document.createElement('div');\n",
              "        docLink.innerHTML = docLinkHtml;\n",
              "        element.appendChild(docLink);\n",
              "      }\n",
              "    </script>\n",
              "  </div>\n",
              "\n",
              "\n",
              "    <div id=\"df-91718109-83ea-4844-bf69-ef1390c4d814\">\n",
              "      <button class=\"colab-df-quickchart\" onclick=\"quickchart('df-91718109-83ea-4844-bf69-ef1390c4d814')\"\n",
              "                title=\"Suggest charts\"\n",
              "                style=\"display:none;\">\n",
              "\n",
              "<svg xmlns=\"http://www.w3.org/2000/svg\" height=\"24px\"viewBox=\"0 0 24 24\"\n",
              "     width=\"24px\">\n",
              "    <g>\n",
              "        <path d=\"M19 3H5c-1.1 0-2 .9-2 2v14c0 1.1.9 2 2 2h14c1.1 0 2-.9 2-2V5c0-1.1-.9-2-2-2zM9 17H7v-7h2v7zm4 0h-2V7h2v10zm4 0h-2v-4h2v4z\"/>\n",
              "    </g>\n",
              "</svg>\n",
              "      </button>\n",
              "\n",
              "<style>\n",
              "  .colab-df-quickchart {\n",
              "      --bg-color: #E8F0FE;\n",
              "      --fill-color: #1967D2;\n",
              "      --hover-bg-color: #E2EBFA;\n",
              "      --hover-fill-color: #174EA6;\n",
              "      --disabled-fill-color: #AAA;\n",
              "      --disabled-bg-color: #DDD;\n",
              "  }\n",
              "\n",
              "  [theme=dark] .colab-df-quickchart {\n",
              "      --bg-color: #3B4455;\n",
              "      --fill-color: #D2E3FC;\n",
              "      --hover-bg-color: #434B5C;\n",
              "      --hover-fill-color: #FFFFFF;\n",
              "      --disabled-bg-color: #3B4455;\n",
              "      --disabled-fill-color: #666;\n",
              "  }\n",
              "\n",
              "  .colab-df-quickchart {\n",
              "    background-color: var(--bg-color);\n",
              "    border: none;\n",
              "    border-radius: 50%;\n",
              "    cursor: pointer;\n",
              "    display: none;\n",
              "    fill: var(--fill-color);\n",
              "    height: 32px;\n",
              "    padding: 0;\n",
              "    width: 32px;\n",
              "  }\n",
              "\n",
              "  .colab-df-quickchart:hover {\n",
              "    background-color: var(--hover-bg-color);\n",
              "    box-shadow: 0 1px 2px rgba(60, 64, 67, 0.3), 0 1px 3px 1px rgba(60, 64, 67, 0.15);\n",
              "    fill: var(--button-hover-fill-color);\n",
              "  }\n",
              "\n",
              "  .colab-df-quickchart-complete:disabled,\n",
              "  .colab-df-quickchart-complete:disabled:hover {\n",
              "    background-color: var(--disabled-bg-color);\n",
              "    fill: var(--disabled-fill-color);\n",
              "    box-shadow: none;\n",
              "  }\n",
              "\n",
              "  .colab-df-spinner {\n",
              "    border: 2px solid var(--fill-color);\n",
              "    border-color: transparent;\n",
              "    border-bottom-color: var(--fill-color);\n",
              "    animation:\n",
              "      spin 1s steps(1) infinite;\n",
              "  }\n",
              "\n",
              "  @keyframes spin {\n",
              "    0% {\n",
              "      border-color: transparent;\n",
              "      border-bottom-color: var(--fill-color);\n",
              "      border-left-color: var(--fill-color);\n",
              "    }\n",
              "    20% {\n",
              "      border-color: transparent;\n",
              "      border-left-color: var(--fill-color);\n",
              "      border-top-color: var(--fill-color);\n",
              "    }\n",
              "    30% {\n",
              "      border-color: transparent;\n",
              "      border-left-color: var(--fill-color);\n",
              "      border-top-color: var(--fill-color);\n",
              "      border-right-color: var(--fill-color);\n",
              "    }\n",
              "    40% {\n",
              "      border-color: transparent;\n",
              "      border-right-color: var(--fill-color);\n",
              "      border-top-color: var(--fill-color);\n",
              "    }\n",
              "    60% {\n",
              "      border-color: transparent;\n",
              "      border-right-color: var(--fill-color);\n",
              "    }\n",
              "    80% {\n",
              "      border-color: transparent;\n",
              "      border-right-color: var(--fill-color);\n",
              "      border-bottom-color: var(--fill-color);\n",
              "    }\n",
              "    90% {\n",
              "      border-color: transparent;\n",
              "      border-bottom-color: var(--fill-color);\n",
              "    }\n",
              "  }\n",
              "</style>\n",
              "\n",
              "      <script>\n",
              "        async function quickchart(key) {\n",
              "          const quickchartButtonEl =\n",
              "            document.querySelector('#' + key + ' button');\n",
              "          quickchartButtonEl.disabled = true;  // To prevent multiple clicks.\n",
              "          quickchartButtonEl.classList.add('colab-df-spinner');\n",
              "          try {\n",
              "            const charts = await google.colab.kernel.invokeFunction(\n",
              "                'suggestCharts', [key], {});\n",
              "          } catch (error) {\n",
              "            console.error('Error during call to suggestCharts:', error);\n",
              "          }\n",
              "          quickchartButtonEl.classList.remove('colab-df-spinner');\n",
              "          quickchartButtonEl.classList.add('colab-df-quickchart-complete');\n",
              "        }\n",
              "        (() => {\n",
              "          let quickchartButtonEl =\n",
              "            document.querySelector('#df-91718109-83ea-4844-bf69-ef1390c4d814 button');\n",
              "          quickchartButtonEl.style.display =\n",
              "            google.colab.kernel.accessAllowed ? 'block' : 'none';\n",
              "        })();\n",
              "      </script>\n",
              "    </div>\n",
              "\n",
              "    </div>\n",
              "  </div>\n"
            ],
            "application/vnd.google.colaboratory.intrinsic+json": {
              "type": "dataframe",
              "variable_name": "data"
            }
          },
          "metadata": {},
          "execution_count": 56
        }
      ]
    },
    {
      "cell_type": "code",
      "source": [
        "data.shape"
      ],
      "metadata": {
        "colab": {
          "base_uri": "https://localhost:8080/"
        },
        "id": "B9AfvUt9NL7e",
        "outputId": "065e9ad7-12a7-42c7-85c0-e4ffae16d0f3"
      },
      "execution_count": null,
      "outputs": [
        {
          "output_type": "execute_result",
          "data": {
            "text/plain": [
              "(249420, 9)"
            ]
          },
          "metadata": {},
          "execution_count": 57
        }
      ]
    },
    {
      "cell_type": "code",
      "source": [
        "data.dtypes"
      ],
      "metadata": {
        "colab": {
          "base_uri": "https://localhost:8080/",
          "height": 366
        },
        "id": "1a51m4pXNPsV",
        "outputId": "78dcc23e-cd04-402b-8999-63200db6c608"
      },
      "execution_count": null,
      "outputs": [
        {
          "output_type": "execute_result",
          "data": {
            "text/plain": [
              "driver_id           object\n",
              "trip_id             object\n",
              "timestamp           object\n",
              "latitude           float64\n",
              "longitude          float64\n",
              "speed_kmh          float64\n",
              "accelerometer_x    float64\n",
              "accelerometer_y    float64\n",
              "accelerometer_z    float64\n",
              "dtype: object"
            ],
            "text/html": [
              "<div>\n",
              "<style scoped>\n",
              "    .dataframe tbody tr th:only-of-type {\n",
              "        vertical-align: middle;\n",
              "    }\n",
              "\n",
              "    .dataframe tbody tr th {\n",
              "        vertical-align: top;\n",
              "    }\n",
              "\n",
              "    .dataframe thead th {\n",
              "        text-align: right;\n",
              "    }\n",
              "</style>\n",
              "<table border=\"1\" class=\"dataframe\">\n",
              "  <thead>\n",
              "    <tr style=\"text-align: right;\">\n",
              "      <th></th>\n",
              "      <th>0</th>\n",
              "    </tr>\n",
              "  </thead>\n",
              "  <tbody>\n",
              "    <tr>\n",
              "      <th>driver_id</th>\n",
              "      <td>object</td>\n",
              "    </tr>\n",
              "    <tr>\n",
              "      <th>trip_id</th>\n",
              "      <td>object</td>\n",
              "    </tr>\n",
              "    <tr>\n",
              "      <th>timestamp</th>\n",
              "      <td>object</td>\n",
              "    </tr>\n",
              "    <tr>\n",
              "      <th>latitude</th>\n",
              "      <td>float64</td>\n",
              "    </tr>\n",
              "    <tr>\n",
              "      <th>longitude</th>\n",
              "      <td>float64</td>\n",
              "    </tr>\n",
              "    <tr>\n",
              "      <th>speed_kmh</th>\n",
              "      <td>float64</td>\n",
              "    </tr>\n",
              "    <tr>\n",
              "      <th>accelerometer_x</th>\n",
              "      <td>float64</td>\n",
              "    </tr>\n",
              "    <tr>\n",
              "      <th>accelerometer_y</th>\n",
              "      <td>float64</td>\n",
              "    </tr>\n",
              "    <tr>\n",
              "      <th>accelerometer_z</th>\n",
              "      <td>float64</td>\n",
              "    </tr>\n",
              "  </tbody>\n",
              "</table>\n",
              "</div><br><label><b>dtype:</b> object</label>"
            ]
          },
          "metadata": {},
          "execution_count": 58
        }
      ]
    },
    {
      "cell_type": "code",
      "source": [
        "#Convert timestamp to datetime\n",
        "data['timestamp'] = pd.to_datetime(data['timestamp'])"
      ],
      "metadata": {
        "id": "IgU-P3OwRpVL"
      },
      "execution_count": null,
      "outputs": []
    },
    {
      "cell_type": "code",
      "source": [
        "data.info()"
      ],
      "metadata": {
        "colab": {
          "base_uri": "https://localhost:8080/"
        },
        "id": "X_UzbhdMSNp4",
        "outputId": "e43cbadc-2b31-4918-aab0-738b4971a4e4"
      },
      "execution_count": null,
      "outputs": [
        {
          "output_type": "stream",
          "name": "stdout",
          "text": [
            "<class 'pandas.core.frame.DataFrame'>\n",
            "RangeIndex: 249420 entries, 0 to 249419\n",
            "Data columns (total 9 columns):\n",
            " #   Column           Non-Null Count   Dtype         \n",
            "---  ------           --------------   -----         \n",
            " 0   driver_id        249420 non-null  object        \n",
            " 1   trip_id          249420 non-null  object        \n",
            " 2   timestamp        249420 non-null  datetime64[ns]\n",
            " 3   latitude         249420 non-null  float64       \n",
            " 4   longitude        249420 non-null  float64       \n",
            " 5   speed_kmh        249420 non-null  float64       \n",
            " 6   accelerometer_x  249420 non-null  float64       \n",
            " 7   accelerometer_y  249420 non-null  float64       \n",
            " 8   accelerometer_z  249420 non-null  float64       \n",
            "dtypes: datetime64[ns](1), float64(6), object(2)\n",
            "memory usage: 17.1+ MB\n"
          ]
        }
      ]
    },
    {
      "cell_type": "markdown",
      "source": [
        "# **Feature Engineering**"
      ],
      "metadata": {
        "id": "9wrrdCKrSWS3"
      }
    },
    {
      "cell_type": "code",
      "source": [
        "#Define thresholds for feature Engineering\n",
        "#These thresholds define what we define as a \"risky\" event\n",
        "#These values are common starting points and can be fine-tuned\n",
        "\n",
        "HARSH_ACCELERATION_THRESHOLD = 2.5 # m/s^2\n",
        "HARSH_BRAKING_THRESHOLD = -2.5   # m/s^2 (negative for deceleration)\n",
        "HARSH_TURNING_THRESHOLD = 2.0   # m/s^2 (lateral G-force)\n",
        "SPEEDING_THRESHOLD = 90         # km/h"
      ],
      "metadata": {
        "id": "v6D07MGqSRKx"
      },
      "execution_count": null,
      "outputs": []
    },
    {
      "cell_type": "code",
      "source": [
        "# We will group by trip_id and calculate features for each trip\n",
        "# Calculate total magnitude of acceleration for turning\n",
        "data['lateral_accel_mag'] = data['accelerometer_y'].abs()"
      ],
      "metadata": {
        "id": "bEFTH7n5UPj9"
      },
      "execution_count": null,
      "outputs": []
    },
    {
      "cell_type": "code",
      "source": [
        "# Group by trip_id\n",
        "grouped = data.groupby('trip_id')"
      ],
      "metadata": {
        "id": "LRmcVy8qUyrc"
      },
      "execution_count": null,
      "outputs": []
    },
    {
      "cell_type": "code",
      "source": [
        "grouped"
      ],
      "metadata": {
        "colab": {
          "base_uri": "https://localhost:8080/"
        },
        "id": "-TVUxE2XW4lW",
        "outputId": "69df1eff-9cb3-465f-8f8b-727876c6891d"
      },
      "execution_count": null,
      "outputs": [
        {
          "output_type": "execute_result",
          "data": {
            "text/plain": [
              "<pandas.core.groupby.generic.DataFrameGroupBy object at 0x7dd70ff347d0>"
            ]
          },
          "metadata": {},
          "execution_count": 64
        }
      ]
    },
    {
      "cell_type": "code",
      "source": [
        "features_list = []\n",
        "\n",
        "for trip_id, trip_df in grouped:\n",
        "    # Basic trip info\n",
        "    driver_id = trip_df['driver_id'].iloc[0]\n",
        "    trip_duration_seconds = (trip_df['timestamp'].max() - trip_df['timestamp'].min()).total_seconds()\n",
        "\n",
        "    # Feature: Count of Harsh Events\n",
        "    harsh_accelerations = (trip_df['accelerometer_x'] > HARSH_ACCELERATION_THRESHOLD).sum()\n",
        "    harsh_brakings = (trip_df['accelerometer_x'] < HARSH_BRAKING_THRESHOLD).sum()\n",
        "    harsh_turnings = (trip_df['lateral_accel_mag'] > HARSH_TURNING_THRESHOLD).sum()\n",
        "\n",
        "    # Feature: Percentage of time speeding\n",
        "    speeding_duration_seconds = trip_df[trip_df['speed_kmh'] > SPEEDING_THRESHOLD].shape[0]\n",
        "    percent_time_speeding = (speeding_duration_seconds / trip_duration_seconds) * 100 if trip_duration_seconds > 0 else 0\n",
        "\n",
        "    # Feature: Total Trip Distance (Mileage)\n",
        "    # Calculated by summing up the distance traveled each second\n",
        "    trip_distance_km = (trip_df['speed_kmh'] * (1/3600)).sum() # Speed is in km/h, time interval is 1 sec (1/3600 h)\n",
        "\n",
        "    # Feature: Driving in Risky Hours (e.g., 10 PM to 5 AM)\n",
        "    risky_hours_count = trip_df[trip_df['timestamp'].dt.hour.isin([22, 23, 0, 1, 2, 3, 4])].shape[0]\n",
        "    percent_time_risky_hours = (risky_hours_count / trip_duration_seconds) * 100 if trip_duration_seconds > 0 else 0\n",
        "\n",
        "    features_list.append({\n",
        "        'trip_id': trip_id,\n",
        "        'driver_id': driver_id,\n",
        "        'trip_duration_s': trip_duration_seconds,\n",
        "        'trip_distance_km': trip_distance_km,\n",
        "        'harsh_accelerations': harsh_accelerations,\n",
        "        'harsh_brakings': harsh_brakings,\n",
        "        'harsh_turnings': harsh_turnings,\n",
        "        'percent_time_speeding': percent_time_speeding,\n",
        "        'percent_time_risky_hours': percent_time_risky_hours\n",
        "    })"
      ],
      "metadata": {
        "id": "Y0brdH1GUzPh"
      },
      "execution_count": null,
      "outputs": []
    },
    {
      "cell_type": "code",
      "source": [
        "#Create the final features dataframe\n",
        "features_df = pd.DataFrame(features_list)"
      ],
      "metadata": {
        "id": "744rEhlIWidU"
      },
      "execution_count": null,
      "outputs": []
    },
    {
      "cell_type": "code",
      "source": [
        "features_df.shape"
      ],
      "metadata": {
        "colab": {
          "base_uri": "https://localhost:8080/"
        },
        "id": "c7p0mXateSHu",
        "outputId": "eed98d98-3b18-4105-c585-bba4248e7f36"
      },
      "execution_count": null,
      "outputs": [
        {
          "output_type": "execute_result",
          "data": {
            "text/plain": [
              "(100, 9)"
            ]
          },
          "metadata": {},
          "execution_count": 67
        }
      ]
    },
    {
      "cell_type": "code",
      "source": [
        "features_df.head()"
      ],
      "metadata": {
        "colab": {
          "base_uri": "https://localhost:8080/",
          "height": 486
        },
        "id": "PGVdfswlWl3u",
        "outputId": "a5453894-c392-4deb-a908-ad505c9a45b9"
      },
      "execution_count": null,
      "outputs": [
        {
          "output_type": "execute_result",
          "data": {
            "text/plain": [
              "                                     trip_id        driver_id  \\\n",
              "0  trip_01c68640-32fc-4c09-a063-d3899d277371  driver_risky_04   \n",
              "1  trip_066838c2-252d-4739-b5a5-bf607846ebbc   driver_safe_01   \n",
              "2  trip_0badcd70-b376-47d6-957d-ea6d538b4d06   driver_safe_02   \n",
              "3  trip_1076a852-4f4b-40bc-ace3-c735997d1adf  driver_risky_04   \n",
              "4  trip_11207115-d64b-4ed1-b865-8e59d7fceae6   driver_safe_03   \n",
              "\n",
              "   trip_duration_s  trip_distance_km  harsh_accelerations  harsh_brakings  \\\n",
              "0           2699.0         52.815369                   19              24   \n",
              "1           1919.0         23.973014                    0               0   \n",
              "2           1679.0         20.934486                    0               0   \n",
              "3           1739.0         33.838175                   18              13   \n",
              "4           1499.0         18.743256                    0               0   \n",
              "\n",
              "   harsh_turnings  percent_time_speeding  percent_time_risky_hours  \n",
              "0             151               9.373842                       0.0  \n",
              "1               0               0.000000                       0.0  \n",
              "2               0               0.000000                       0.0  \n",
              "3              88               8.740656                       0.0  \n",
              "4               0               0.000000                       0.0  "
            ],
            "text/html": [
              "\n",
              "  <div id=\"df-8bbf5b94-abdc-4bf5-acb8-347adc7a08ec\" class=\"colab-df-container\">\n",
              "    <div>\n",
              "<style scoped>\n",
              "    .dataframe tbody tr th:only-of-type {\n",
              "        vertical-align: middle;\n",
              "    }\n",
              "\n",
              "    .dataframe tbody tr th {\n",
              "        vertical-align: top;\n",
              "    }\n",
              "\n",
              "    .dataframe thead th {\n",
              "        text-align: right;\n",
              "    }\n",
              "</style>\n",
              "<table border=\"1\" class=\"dataframe\">\n",
              "  <thead>\n",
              "    <tr style=\"text-align: right;\">\n",
              "      <th></th>\n",
              "      <th>trip_id</th>\n",
              "      <th>driver_id</th>\n",
              "      <th>trip_duration_s</th>\n",
              "      <th>trip_distance_km</th>\n",
              "      <th>harsh_accelerations</th>\n",
              "      <th>harsh_brakings</th>\n",
              "      <th>harsh_turnings</th>\n",
              "      <th>percent_time_speeding</th>\n",
              "      <th>percent_time_risky_hours</th>\n",
              "    </tr>\n",
              "  </thead>\n",
              "  <tbody>\n",
              "    <tr>\n",
              "      <th>0</th>\n",
              "      <td>trip_01c68640-32fc-4c09-a063-d3899d277371</td>\n",
              "      <td>driver_risky_04</td>\n",
              "      <td>2699.0</td>\n",
              "      <td>52.815369</td>\n",
              "      <td>19</td>\n",
              "      <td>24</td>\n",
              "      <td>151</td>\n",
              "      <td>9.373842</td>\n",
              "      <td>0.0</td>\n",
              "    </tr>\n",
              "    <tr>\n",
              "      <th>1</th>\n",
              "      <td>trip_066838c2-252d-4739-b5a5-bf607846ebbc</td>\n",
              "      <td>driver_safe_01</td>\n",
              "      <td>1919.0</td>\n",
              "      <td>23.973014</td>\n",
              "      <td>0</td>\n",
              "      <td>0</td>\n",
              "      <td>0</td>\n",
              "      <td>0.000000</td>\n",
              "      <td>0.0</td>\n",
              "    </tr>\n",
              "    <tr>\n",
              "      <th>2</th>\n",
              "      <td>trip_0badcd70-b376-47d6-957d-ea6d538b4d06</td>\n",
              "      <td>driver_safe_02</td>\n",
              "      <td>1679.0</td>\n",
              "      <td>20.934486</td>\n",
              "      <td>0</td>\n",
              "      <td>0</td>\n",
              "      <td>0</td>\n",
              "      <td>0.000000</td>\n",
              "      <td>0.0</td>\n",
              "    </tr>\n",
              "    <tr>\n",
              "      <th>3</th>\n",
              "      <td>trip_1076a852-4f4b-40bc-ace3-c735997d1adf</td>\n",
              "      <td>driver_risky_04</td>\n",
              "      <td>1739.0</td>\n",
              "      <td>33.838175</td>\n",
              "      <td>18</td>\n",
              "      <td>13</td>\n",
              "      <td>88</td>\n",
              "      <td>8.740656</td>\n",
              "      <td>0.0</td>\n",
              "    </tr>\n",
              "    <tr>\n",
              "      <th>4</th>\n",
              "      <td>trip_11207115-d64b-4ed1-b865-8e59d7fceae6</td>\n",
              "      <td>driver_safe_03</td>\n",
              "      <td>1499.0</td>\n",
              "      <td>18.743256</td>\n",
              "      <td>0</td>\n",
              "      <td>0</td>\n",
              "      <td>0</td>\n",
              "      <td>0.000000</td>\n",
              "      <td>0.0</td>\n",
              "    </tr>\n",
              "  </tbody>\n",
              "</table>\n",
              "</div>\n",
              "    <div class=\"colab-df-buttons\">\n",
              "\n",
              "  <div class=\"colab-df-container\">\n",
              "    <button class=\"colab-df-convert\" onclick=\"convertToInteractive('df-8bbf5b94-abdc-4bf5-acb8-347adc7a08ec')\"\n",
              "            title=\"Convert this dataframe to an interactive table.\"\n",
              "            style=\"display:none;\">\n",
              "\n",
              "  <svg xmlns=\"http://www.w3.org/2000/svg\" height=\"24px\" viewBox=\"0 -960 960 960\">\n",
              "    <path d=\"M120-120v-720h720v720H120Zm60-500h600v-160H180v160Zm220 220h160v-160H400v160Zm0 220h160v-160H400v160ZM180-400h160v-160H180v160Zm440 0h160v-160H620v160ZM180-180h160v-160H180v160Zm440 0h160v-160H620v160Z\"/>\n",
              "  </svg>\n",
              "    </button>\n",
              "\n",
              "  <style>\n",
              "    .colab-df-container {\n",
              "      display:flex;\n",
              "      gap: 12px;\n",
              "    }\n",
              "\n",
              "    .colab-df-convert {\n",
              "      background-color: #E8F0FE;\n",
              "      border: none;\n",
              "      border-radius: 50%;\n",
              "      cursor: pointer;\n",
              "      display: none;\n",
              "      fill: #1967D2;\n",
              "      height: 32px;\n",
              "      padding: 0 0 0 0;\n",
              "      width: 32px;\n",
              "    }\n",
              "\n",
              "    .colab-df-convert:hover {\n",
              "      background-color: #E2EBFA;\n",
              "      box-shadow: 0px 1px 2px rgba(60, 64, 67, 0.3), 0px 1px 3px 1px rgba(60, 64, 67, 0.15);\n",
              "      fill: #174EA6;\n",
              "    }\n",
              "\n",
              "    .colab-df-buttons div {\n",
              "      margin-bottom: 4px;\n",
              "    }\n",
              "\n",
              "    [theme=dark] .colab-df-convert {\n",
              "      background-color: #3B4455;\n",
              "      fill: #D2E3FC;\n",
              "    }\n",
              "\n",
              "    [theme=dark] .colab-df-convert:hover {\n",
              "      background-color: #434B5C;\n",
              "      box-shadow: 0px 1px 3px 1px rgba(0, 0, 0, 0.15);\n",
              "      filter: drop-shadow(0px 1px 2px rgba(0, 0, 0, 0.3));\n",
              "      fill: #FFFFFF;\n",
              "    }\n",
              "  </style>\n",
              "\n",
              "    <script>\n",
              "      const buttonEl =\n",
              "        document.querySelector('#df-8bbf5b94-abdc-4bf5-acb8-347adc7a08ec button.colab-df-convert');\n",
              "      buttonEl.style.display =\n",
              "        google.colab.kernel.accessAllowed ? 'block' : 'none';\n",
              "\n",
              "      async function convertToInteractive(key) {\n",
              "        const element = document.querySelector('#df-8bbf5b94-abdc-4bf5-acb8-347adc7a08ec');\n",
              "        const dataTable =\n",
              "          await google.colab.kernel.invokeFunction('convertToInteractive',\n",
              "                                                    [key], {});\n",
              "        if (!dataTable) return;\n",
              "\n",
              "        const docLinkHtml = 'Like what you see? Visit the ' +\n",
              "          '<a target=\"_blank\" href=https://colab.research.google.com/notebooks/data_table.ipynb>data table notebook</a>'\n",
              "          + ' to learn more about interactive tables.';\n",
              "        element.innerHTML = '';\n",
              "        dataTable['output_type'] = 'display_data';\n",
              "        await google.colab.output.renderOutput(dataTable, element);\n",
              "        const docLink = document.createElement('div');\n",
              "        docLink.innerHTML = docLinkHtml;\n",
              "        element.appendChild(docLink);\n",
              "      }\n",
              "    </script>\n",
              "  </div>\n",
              "\n",
              "\n",
              "    <div id=\"df-21304af8-42bd-49a0-8dfc-75e51e0b7e2a\">\n",
              "      <button class=\"colab-df-quickchart\" onclick=\"quickchart('df-21304af8-42bd-49a0-8dfc-75e51e0b7e2a')\"\n",
              "                title=\"Suggest charts\"\n",
              "                style=\"display:none;\">\n",
              "\n",
              "<svg xmlns=\"http://www.w3.org/2000/svg\" height=\"24px\"viewBox=\"0 0 24 24\"\n",
              "     width=\"24px\">\n",
              "    <g>\n",
              "        <path d=\"M19 3H5c-1.1 0-2 .9-2 2v14c0 1.1.9 2 2 2h14c1.1 0 2-.9 2-2V5c0-1.1-.9-2-2-2zM9 17H7v-7h2v7zm4 0h-2V7h2v10zm4 0h-2v-4h2v4z\"/>\n",
              "    </g>\n",
              "</svg>\n",
              "      </button>\n",
              "\n",
              "<style>\n",
              "  .colab-df-quickchart {\n",
              "      --bg-color: #E8F0FE;\n",
              "      --fill-color: #1967D2;\n",
              "      --hover-bg-color: #E2EBFA;\n",
              "      --hover-fill-color: #174EA6;\n",
              "      --disabled-fill-color: #AAA;\n",
              "      --disabled-bg-color: #DDD;\n",
              "  }\n",
              "\n",
              "  [theme=dark] .colab-df-quickchart {\n",
              "      --bg-color: #3B4455;\n",
              "      --fill-color: #D2E3FC;\n",
              "      --hover-bg-color: #434B5C;\n",
              "      --hover-fill-color: #FFFFFF;\n",
              "      --disabled-bg-color: #3B4455;\n",
              "      --disabled-fill-color: #666;\n",
              "  }\n",
              "\n",
              "  .colab-df-quickchart {\n",
              "    background-color: var(--bg-color);\n",
              "    border: none;\n",
              "    border-radius: 50%;\n",
              "    cursor: pointer;\n",
              "    display: none;\n",
              "    fill: var(--fill-color);\n",
              "    height: 32px;\n",
              "    padding: 0;\n",
              "    width: 32px;\n",
              "  }\n",
              "\n",
              "  .colab-df-quickchart:hover {\n",
              "    background-color: var(--hover-bg-color);\n",
              "    box-shadow: 0 1px 2px rgba(60, 64, 67, 0.3), 0 1px 3px 1px rgba(60, 64, 67, 0.15);\n",
              "    fill: var(--button-hover-fill-color);\n",
              "  }\n",
              "\n",
              "  .colab-df-quickchart-complete:disabled,\n",
              "  .colab-df-quickchart-complete:disabled:hover {\n",
              "    background-color: var(--disabled-bg-color);\n",
              "    fill: var(--disabled-fill-color);\n",
              "    box-shadow: none;\n",
              "  }\n",
              "\n",
              "  .colab-df-spinner {\n",
              "    border: 2px solid var(--fill-color);\n",
              "    border-color: transparent;\n",
              "    border-bottom-color: var(--fill-color);\n",
              "    animation:\n",
              "      spin 1s steps(1) infinite;\n",
              "  }\n",
              "\n",
              "  @keyframes spin {\n",
              "    0% {\n",
              "      border-color: transparent;\n",
              "      border-bottom-color: var(--fill-color);\n",
              "      border-left-color: var(--fill-color);\n",
              "    }\n",
              "    20% {\n",
              "      border-color: transparent;\n",
              "      border-left-color: var(--fill-color);\n",
              "      border-top-color: var(--fill-color);\n",
              "    }\n",
              "    30% {\n",
              "      border-color: transparent;\n",
              "      border-left-color: var(--fill-color);\n",
              "      border-top-color: var(--fill-color);\n",
              "      border-right-color: var(--fill-color);\n",
              "    }\n",
              "    40% {\n",
              "      border-color: transparent;\n",
              "      border-right-color: var(--fill-color);\n",
              "      border-top-color: var(--fill-color);\n",
              "    }\n",
              "    60% {\n",
              "      border-color: transparent;\n",
              "      border-right-color: var(--fill-color);\n",
              "    }\n",
              "    80% {\n",
              "      border-color: transparent;\n",
              "      border-right-color: var(--fill-color);\n",
              "      border-bottom-color: var(--fill-color);\n",
              "    }\n",
              "    90% {\n",
              "      border-color: transparent;\n",
              "      border-bottom-color: var(--fill-color);\n",
              "    }\n",
              "  }\n",
              "</style>\n",
              "\n",
              "      <script>\n",
              "        async function quickchart(key) {\n",
              "          const quickchartButtonEl =\n",
              "            document.querySelector('#' + key + ' button');\n",
              "          quickchartButtonEl.disabled = true;  // To prevent multiple clicks.\n",
              "          quickchartButtonEl.classList.add('colab-df-spinner');\n",
              "          try {\n",
              "            const charts = await google.colab.kernel.invokeFunction(\n",
              "                'suggestCharts', [key], {});\n",
              "          } catch (error) {\n",
              "            console.error('Error during call to suggestCharts:', error);\n",
              "          }\n",
              "          quickchartButtonEl.classList.remove('colab-df-spinner');\n",
              "          quickchartButtonEl.classList.add('colab-df-quickchart-complete');\n",
              "        }\n",
              "        (() => {\n",
              "          let quickchartButtonEl =\n",
              "            document.querySelector('#df-21304af8-42bd-49a0-8dfc-75e51e0b7e2a button');\n",
              "          quickchartButtonEl.style.display =\n",
              "            google.colab.kernel.accessAllowed ? 'block' : 'none';\n",
              "        })();\n",
              "      </script>\n",
              "    </div>\n",
              "\n",
              "    </div>\n",
              "  </div>\n"
            ],
            "application/vnd.google.colaboratory.intrinsic+json": {
              "type": "dataframe",
              "variable_name": "features_df",
              "summary": "{\n  \"name\": \"features_df\",\n  \"rows\": 100,\n  \"fields\": [\n    {\n      \"column\": \"trip_id\",\n      \"properties\": {\n        \"dtype\": \"string\",\n        \"num_unique_values\": 100,\n        \"samples\": [\n          \"trip_e5d8b88c-0131-4373-b8d3-d23929aea5cd\",\n          \"trip_83ec9e56-04fa-4384-833f-3d6ac008e5ed\",\n          \"trip_b45ad3e3-8d84-4ea2-9c67-8000ea0edc68\"\n        ],\n        \"semantic_type\": \"\",\n        \"description\": \"\"\n      }\n    },\n    {\n      \"column\": \"driver_id\",\n      \"properties\": {\n        \"dtype\": \"category\",\n        \"num_unique_values\": 10,\n        \"samples\": [\n          \"driver_risky_03\",\n          \"driver_safe_01\",\n          \"driver_safe_05\"\n        ],\n        \"semantic_type\": \"\",\n        \"description\": \"\"\n      }\n    },\n    {\n      \"column\": \"trip_duration_s\",\n      \"properties\": {\n        \"dtype\": \"number\",\n        \"std\": 1006.1359026222327,\n        \"min\": 899.0,\n        \"max\": 4439.0,\n        \"num_unique_values\": 49,\n        \"samples\": [\n          1619.0,\n          3899.0,\n          959.0\n        ],\n        \"semantic_type\": \"\",\n        \"description\": \"\"\n      }\n    },\n    {\n      \"column\": \"trip_distance_km\",\n      \"properties\": {\n        \"dtype\": \"number\",\n        \"std\": 21.94799604161089,\n        \"min\": 11.268386111111113,\n        \"max\": 86.026175,\n        \"num_unique_values\": 100,\n        \"samples\": [\n          16.515305555555557,\n          15.743808333333334,\n          27.641725\n        ],\n        \"semantic_type\": \"\",\n        \"description\": \"\"\n      }\n    },\n    {\n      \"column\": \"harsh_accelerations\",\n      \"properties\": {\n        \"dtype\": \"number\",\n        \"std\": 15,\n        \"min\": 0,\n        \"max\": 50,\n        \"num_unique_values\": 30,\n        \"samples\": [\n          44,\n          30,\n          13\n        ],\n        \"semantic_type\": \"\",\n        \"description\": \"\"\n      }\n    },\n    {\n      \"column\": \"harsh_brakings\",\n      \"properties\": {\n        \"dtype\": \"number\",\n        \"std\": 15,\n        \"min\": 0,\n        \"max\": 47,\n        \"num_unique_values\": 28,\n        \"samples\": [\n          5,\n          36,\n          47\n        ],\n        \"semantic_type\": \"\",\n        \"description\": \"\"\n      }\n    },\n    {\n      \"column\": \"harsh_turnings\",\n      \"properties\": {\n        \"dtype\": \"number\",\n        \"std\": 82,\n        \"min\": 0,\n        \"max\": 249,\n        \"num_unique_values\": 48,\n        \"samples\": [\n          126,\n          214,\n          90\n        ],\n        \"semantic_type\": \"\",\n        \"description\": \"\"\n      }\n    },\n    {\n      \"column\": \"percent_time_speeding\",\n      \"properties\": {\n        \"dtype\": \"number\",\n        \"std\": 4.59185319945088,\n        \"min\": 0.0,\n        \"max\": 10.728182323513062,\n        \"num_unique_values\": 51,\n        \"samples\": [\n          8.841917237272998,\n          10.161418364646732,\n          9.736651365064025\n        ],\n        \"semantic_type\": \"\",\n        \"description\": \"\"\n      }\n    },\n    {\n      \"column\": \"percent_time_risky_hours\",\n      \"properties\": {\n        \"dtype\": \"number\",\n        \"std\": 0.0,\n        \"min\": 0.0,\n        \"max\": 0.0,\n        \"num_unique_values\": 1,\n        \"samples\": [\n          0.0\n        ],\n        \"semantic_type\": \"\",\n        \"description\": \"\"\n      }\n    }\n  ]\n}"
            }
          },
          "metadata": {},
          "execution_count": 68
        }
      ]
    },
    {
      "cell_type": "markdown",
      "source": [
        "**Visualizations**"
      ],
      "metadata": {
        "id": "MyFVHtlYZKD_"
      }
    },
    {
      "cell_type": "code",
      "source": [
        "# Add a 'driver_type' column for easier plotting\n",
        "features_df['driver_type'] = features_df['driver_id'].apply(lambda x: 'risky' if 'risky' in x else 'safe')\n",
        "\n",
        "fig, axes = plt.subplots(2, 2, figsize=(16, 12))\n",
        "fig.suptitle('Comparison of Driving Behavior Features Between Driver Types', fontsize=16)\n",
        "\n",
        "# Plot 1: Harsh Braking\n",
        "sns.boxplot(ax=axes[0, 0], x='driver_type', y='harsh_brakings', data=features_df)\n",
        "axes[0, 0].set_title('Harsh Braking Events per Trip')\n",
        "axes[0, 0].set_xlabel('Driver Type')\n",
        "axes[0, 0].set_ylabel('Count of Events')\n",
        "\n",
        "# Plot 2: Harsh Turning\n",
        "sns.boxplot(ax=axes[0, 1], x='driver_type', y='harsh_turnings', data=features_df)\n",
        "axes[0, 1].set_title('Harsh Turning Events per Trip')\n",
        "axes[0, 1].set_xlabel('Driver Type')\n",
        "axes[0, 1].set_ylabel('Count of Events')\n",
        "\n",
        "# Plot 3: Speeding\n",
        "sns.boxplot(ax=axes[1, 0], x='driver_type', y='percent_time_speeding', data=features_df)\n",
        "axes[1, 0].set_title('Percentage of Time Speeding per Trip')\n",
        "axes[1, 0].set_xlabel('Driver Type')\n",
        "axes[1, 0].set_ylabel('% of Trip Duration')\n",
        "\n",
        "# Plot 4: Trip Distance\n",
        "sns.boxplot(ax=axes[1, 1], x='driver_type', y='trip_distance_km', data=features_df)\n",
        "axes[1, 1].set_title('Trip Distance (Mileage)')\n",
        "axes[1, 1].set_xlabel('Driver Type')\n",
        "axes[1, 1].set_ylabel('Distance (km)')\n",
        "\n",
        "plt.tight_layout(rect=[0, 0.03, 1, 0.95])\n",
        "plt.show()"
      ],
      "metadata": {
        "colab": {
          "base_uri": "https://localhost:8080/",
          "height": 844
        },
        "id": "Xb1GhYwbY_RC",
        "outputId": "7f3f7b51-295c-4fd3-d403-e3132188436d"
      },
      "execution_count": null,
      "outputs": [
        {
          "output_type": "display_data",
          "data": {
            "text/plain": [
              "<Figure size 1600x1200 with 4 Axes>"
            ],
            "image/png": "[encoded data removed]"
          },
          "metadata": {}
        }
      ]
    },
    {
      "cell_type": "markdown",
      "source": [
        "Based on the plots comparing the driving behavior features between 'risky' and 'safe' drivers, here's an analysis of what each plot shows:\n",
        "\n",
        "**1) Harsh Braking Events per Trip:** The box plot clearly shows that 'risky' drivers have a significantly higher number of harsh braking events per trip compared to 'safe' drivers. The median, upper quartile, and maximum values are all considerably higher for the 'risky' group.\n",
        "\n",
        "**2) Harsh Turning Events per Trip:** Similar to harsh braking, the plot for harsh turning events indicates that 'risky' drivers exhibit more harsh turning instances during their trips than 'safe' drivers.\n",
        "\n",
        "**3) Percentage of Time Speeding per Trip:** The box plot for speeding shows that 'risky' drivers spend a higher percentage of their trip duration exceeding the speed limit compared to 'safe' drivers.\n",
        "\n",
        "**4) Trip Distance (Mileage):** This plot appears to show that 'risky' drivers tend to have longer trips (higher mileage) than 'safe' drivers. While not a direct measure of risky behavior, longer trips could potentially expose drivers to more opportunities for risky events, or it could simply be a characteristic of the 'risky' driver group in this dataset.\n",
        "\n",
        "All these observations validate our feature engineering process as these were the initial assumptions we started with."
      ],
      "metadata": {
        "id": "nozhwJUwJxMj"
      }
    },
    {
      "cell_type": "code",
      "source": [
        "# Save the features to a new CSV file\n",
        "features_df.to_csv('trip_summary_features.csv', index=False)\n",
        "print(\"\\nTrip summary features saved to 'trip_summary_features.csv'\")"
      ],
      "metadata": {
        "colab": {
          "base_uri": "https://localhost:8080/"
        },
        "id": "9cwD9vj8Z_Qs",
        "outputId": "025ce7f3-546d-4cca-f1bc-b6b1f27e192e"
      },
      "execution_count": null,
      "outputs": [
        {
          "output_type": "stream",
          "name": "stdout",
          "text": [
            "\n",
            "Trip summary features saved to 'trip_summary_features.csv'\n"
          ]
        }
      ]
    },
    {
      "cell_type": "markdown",
      "source": [
        "# **Building the risk Scoring model**"
      ],
      "metadata": {
        "id": "T_odAw8CKf_r"
      }
    },
    {
      "cell_type": "markdown",
      "source": [
        "Here, we take an approach of start training with some fundamental machine learning models and then observe the results, based on which we make modifications to our final choice of model.\n",
        "\n",
        "We will start with Linear Regression and Random Forest model as these are the ones mentioned in problem statement and let's see what happens."
      ],
      "metadata": {
        "id": "ml1e4dL2KvRh"
      }
    },
    {
      "cell_type": "code",
      "source": [
        "# Define target Variable (Risk Score)\n",
        "# Now, we have sevearal factors contributing to risk score like harsh braking, harsh turning, speeding and trip distance.\n",
        "# We need to give certain weights to all these features to calculate risk score.\n",
        "# For PoC(Proof of Concept) and lower complexiety, we just manually define the weights for each of these features with our intuition.\n",
        "# Trip distance would actually not contribute much to rosk score as compared to harsh braking and speedding.\n",
        "# Trip distance is there to basically for modelling PAYD.\n",
        "\n",
        "weights = {\n",
        "    'harsh_accelerations': 2.0,\n",
        "    'harsh_brakings': 3.0,      # Most heavily weighted\n",
        "    'harsh_turnings': 2.5,\n",
        "    'percent_time_speeding': 2.0,\n",
        "    'percent_time_risky_hours': 1.0\n",
        "}"
      ],
      "metadata": {
        "id": "KH8rXJbxKfVx"
      },
      "execution_count": null,
      "outputs": []
    },
    {
      "cell_type": "code",
      "source": [
        "# Calculate the risk score for each trip\n",
        "features_df['risk_score'] = (\n",
        "    features_df['harsh_accelerations'] * weights['harsh_accelerations'] +\n",
        "    features_df['harsh_brakings'] * weights['harsh_brakings'] +\n",
        "    features_df['harsh_turnings'] * weights['harsh_turnings'] +\n",
        "    features_df['percent_time_speeding'] * weights['percent_time_speeding'] +\n",
        "    features_df['percent_time_risky_hours'] * weights['percent_time_risky_hours']\n",
        ")"
      ],
      "metadata": {
        "id": "aJRy7PayX0yS"
      },
      "execution_count": null,
      "outputs": []
    },
    {
      "cell_type": "code",
      "source": [
        "# Normalize the score to be roughly between 0 and 100 for easier interpretation\n",
        "features_df['risk_score'] = 100 * (features_df['risk_score'] / features_df['risk_score'].max())"
      ],
      "metadata": {
        "id": "vcXaxFdXZaSB"
      },
      "execution_count": null,
      "outputs": []
    },
    {
      "cell_type": "code",
      "source": [
        "print(features_df[['driver_id','trip_id', 'risk_score']].head())"
      ],
      "metadata": {
        "colab": {
          "base_uri": "https://localhost:8080/"
        },
        "id": "gd-BR2wGZluR",
        "outputId": "241a1e04-ff96-4cf2-ed15-cc73b6ea47a7"
      },
      "execution_count": null,
      "outputs": [
        {
          "output_type": "stream",
          "name": "stdout",
          "text": [
            "         driver_id                                    trip_id  risk_score\n",
            "0  driver_risky_04  trip_01c68640-32fc-4c09-a063-d3899d277371   60.165017\n",
            "1   driver_safe_01  trip_066838c2-252d-4739-b5a5-bf607846ebbc    0.000000\n",
            "2   driver_safe_02  trip_0badcd70-b376-47d6-957d-ea6d538b4d06    0.000000\n",
            "3  driver_risky_04  trip_1076a852-4f4b-40bc-ace3-c735997d1adf   37.136848\n",
            "4   driver_safe_03  trip_11207115-d64b-4ed1-b865-8e59d7fceae6    0.000000\n"
          ]
        }
      ]
    },
    {
      "cell_type": "markdown",
      "source": [
        " **Note**: This is the basic approach for PoC and lower complexiety. In real applications, we can seperately train a machine learning model like Logistic Regression or Gradient Boosting on a historical dataset having risk scores and all these features like harsh braking, speeding etc. Then we use the weights so obtained in this step.\n",
        " The advantage of this approach is that we can go beyond just human guesses and identify hidden relations between risk scores and these features. The results so obtained will be statistical\n",
        "\n",
        " However, I avoid this approach here becuase of limited compute resources, limited time and most importantly for keeping the model simpler. We will also need a huge corpus of historical data which can again be a challenge to collect."
      ],
      "metadata": {
        "id": "YY6lSl6nX5vE"
      }
    },
    {
      "cell_type": "markdown",
      "source": [
        "**Prepare Data for modelling**"
      ],
      "metadata": {
        "id": "Ir7JYmr3bZ-s"
      }
    },
    {
      "cell_type": "code",
      "source": [
        "from sklearn.model_selection import train_test_split\n",
        "\n",
        "# Define our features (X) and our target (y)\n",
        "X = features_df[['harsh_accelerations', 'harsh_brakings', 'harsh_turnings',\n",
        "                 'percent_time_speeding', 'percent_time_risky_hours']]\n",
        "y = features_df['risk_score']\n",
        "\n",
        "# Split the data into training and testing sets (80% for training, 20% for testing)\n",
        "X_train, X_test, y_train, y_test = train_test_split(X, y, test_size=0.2, random_state=42)"
      ],
      "metadata": {
        "id": "L6Y85Y8jX5AU"
      },
      "execution_count": null,
      "outputs": []
    },
    {
      "cell_type": "markdown",
      "source": [
        "**Modelling**"
      ],
      "metadata": {
        "id": "8xqtGYzEcKhR"
      }
    },
    {
      "cell_type": "code",
      "source": [
        "from sklearn.linear_model import LinearRegression\n",
        "from sklearn.metrics import mean_absolute_error, r2_score\n",
        "\n",
        "# Model 1: Linear Regression (a simple, interpretable baseline)\n",
        "print(\"\\n--- Training Linear Regression Model ---\")\n",
        "lr_model = LinearRegression()\n",
        "lr_model.fit(X_train, y_train)\n",
        "lr_predictions = lr_model.predict(X_test)\n",
        "\n",
        "# Evaluate Linear Regression\n",
        "lr_mae = mean_absolute_error(y_test, lr_predictions)\n",
        "lr_r2 = r2_score(y_test, lr_predictions)\n",
        "print(f\"Linear Regression - Mean Absolute Error: {lr_mae:.2f}\")\n",
        "print(f\"Linear Regression - R-squared: {lr_r2:.2f}\")\n"
      ],
      "metadata": {
        "colab": {
          "base_uri": "https://localhost:8080/"
        },
        "id": "fgbfoQ-vbpck",
        "outputId": "1268b214-8551-4de5-df3a-6f1ac9c55404"
      },
      "execution_count": null,
      "outputs": [
        {
          "output_type": "stream",
          "name": "stdout",
          "text": [
            "\n",
            "--- Training Linear Regression Model ---\n",
            "Linear Regression - Mean Absolute Error: 0.00\n",
            "Linear Regression - R-squared: 1.00\n"
          ]
        }
      ]
    },
    {
      "cell_type": "code",
      "source": [
        "from sklearn.ensemble import RandomForestRegressor\n",
        "from sklearn.metrics import mean_absolute_error, r2_score\n",
        "\n",
        "# Model 2: Random Forest Regressor (a more powerful, complex model)\n",
        "print(\"\\n--- Training Random Forest Model ---\")\n",
        "rf_model = RandomForestRegressor(n_estimators=100, random_state=42)\n",
        "rf_model.fit(X_train, y_train)\n",
        "rf_predictions = rf_model.predict(X_test)\n",
        "\n",
        "# Evaluate Random Forest\n",
        "rf_mae = mean_absolute_error(y_test, rf_predictions)\n",
        "rf_r2 = r2_score(y_test, rf_predictions)\n",
        "print(f\"Random Forest - Mean Absolute Error: {rf_mae:.2f}\")\n",
        "print(f\"Random Forest - R-squared: {rf_r2:.2f}\")"
      ],
      "metadata": {
        "colab": {
          "base_uri": "https://localhost:8080/"
        },
        "id": "d1YgTjoVc1tv",
        "outputId": "b92f16bc-0be3-4410-c04c-a4be4fce2cd6"
      },
      "execution_count": null,
      "outputs": [
        {
          "output_type": "stream",
          "name": "stdout",
          "text": [
            "\n",
            "--- Training Random Forest Model ---\n",
            "Random Forest - Mean Absolute Error: 0.67\n",
            "Random Forest - R-squared: 1.00\n"
          ]
        }
      ]
    },
    {
      "cell_type": "code",
      "source": [
        "# --- 6. Evaluation on NOISY Data (Robustness Test) ---\n",
        "print(\"\\n--- Evaluating on NOISY Test Data ---\")\n",
        "# Create a noisy version of the test data\n",
        "X_test_noisy = X_test.copy()\n",
        "NOISE_LEVEL = 0.10\n",
        "for column in X_test_noisy.columns:\n",
        "    if X_test_noisy[column].std() > 0:\n",
        "        noise = np.random.normal(0, X_test_noisy[column].std() * NOISE_LEVEL, X_test_noisy.shape[0])\n",
        "        X_test_noisy[column] += noise\n",
        "# Make predictions on the noisy data\n",
        "lr_preds_noisy = lr_model.predict(X_test_noisy)\n",
        "rf_preds_noisy = rf_model.predict(X_test_noisy)\n",
        "\n",
        "# Evaluate performance\n",
        "lr_r2_noisy = r2_score(y_test, lr_preds_noisy)\n",
        "rf_r2_noisy = r2_score(y_test, rf_preds_noisy)\n",
        "lr_mae_noisy = mean_absolute_error(y_test, lr_preds_noisy)\n",
        "rf_mae_noisy = mean_absolute_error(y_test, rf_preds_noisy)\n",
        "\n",
        "print(f\"Linear Regression (Noisy) - R-squared: {lr_r2_noisy:.2f}, MAE: {lr_mae_noisy:.2f}\")\n",
        "print(f\"Random Forest (Noisy)     - R-squared: {rf_r2_noisy:.2f}, MAE: {rf_mae_noisy:.2f}\")"
      ],
      "metadata": {
        "colab": {
          "base_uri": "https://localhost:8080/"
        },
        "id": "bj5iqxMKiOdk",
        "outputId": "be8cae4a-8035-483d-8c6e-a6c89066a42a"
      },
      "execution_count": null,
      "outputs": [
        {
          "output_type": "stream",
          "name": "stdout",
          "text": [
            "\n",
            "--- Evaluating on NOISY Test Data ---\n",
            "Linear Regression (Noisy) - R-squared: 0.99, MAE: 1.84\n",
            "Random Forest (Noisy)     - R-squared: 1.00, MAE: 0.63\n"
          ]
        }
      ]
    },
    {
      "cell_type": "code",
      "source": [
        "import joblib\n",
        "# Save the winning model\n",
        "model_filename = 'risk_model.joblib'\n",
        "joblib.dump(rf_model, model_filename)"
      ],
      "metadata": {
        "colab": {
          "base_uri": "https://localhost:8080/"
        },
        "id": "VTqHzW-TnsJO",
        "outputId": "3870778a-640a-4430-d749-870cfc0069ee"
      },
      "execution_count": null,
      "outputs": [
        {
          "output_type": "execute_result",
          "data": {
            "text/plain": [
              "['risk_model.joblib']"
            ]
          },
          "metadata": {},
          "execution_count": 80
        }
      ]
    },
    {
      "cell_type": "code",
      "source": [],
      "metadata": {
        "id": "VH9LYfwhwZcY"
      },
      "execution_count": null,
      "outputs": []
    }
  ]
}